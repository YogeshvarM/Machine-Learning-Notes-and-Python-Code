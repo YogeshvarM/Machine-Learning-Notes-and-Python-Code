{
 "cells": [
  {
   "cell_type": "code",
   "execution_count": 2,
   "id": "cdc4c3ea",
   "metadata": {},
   "outputs": [],
   "source": [
    "#Importing_Libraries and Inbuilt_Dataset\n",
    "import numpy as np\n",
    "from sklearn.datasets import load_iris\n"
   ]
  },
  {
   "cell_type": "code",
   "execution_count": 3,
   "id": "361322a1",
   "metadata": {},
   "outputs": [],
   "source": [
    "#Loading_the_Dataset_into_iris_variable\n",
    "iris = load_iris()"
   ]
  },
  {
   "cell_type": "code",
   "execution_count": 4,
   "id": "b3bb8d9d",
   "metadata": {},
   "outputs": [],
   "source": [
    "#Spliting_the_Dependent_and_Independent\n",
    "X = iris.data\n",
    "y = iris.target"
   ]
  },
  {
   "cell_type": "code",
   "execution_count": 5,
   "id": "e89f48f6",
   "metadata": {},
   "outputs": [],
   "source": [
    "#Importing_function_From_library\n",
    "from collections import Counter                     #Counter is a subclass of dict that's specially designed for counting hashable objects in Python. It's a dictionary that stores objects as keys and counts as valuesfrom collections import Counter     \n",
    "from sklearn.model_selection import train_test_split #For_spliting_the_Dataset\n"
   ]
  },
  {
   "cell_type": "code",
   "execution_count": 6,
   "id": "f7b9d562",
   "metadata": {
    "scrolled": false
   },
   "outputs": [
    {
     "name": "stdout",
     "output_type": "stream",
     "text": [
      "Counter({1: 33, 0: 31, 2: 26})\n",
      "Counter({2: 24, 0: 19, 1: 17})\n"
     ]
    }
   ],
   "source": [
    "#Split dataset into train and test\n",
    "X_train, X_test, y_train, y_test = train_test_split(X, y, test_size = 0.4)\n",
    "print(Counter(y_train))\n",
    "print(Counter(y_test))"
   ]
  },
  {
   "cell_type": "code",
   "execution_count": null,
   "id": "77c01310",
   "metadata": {},
   "outputs": [],
   "source": []
  }
 ],
 "metadata": {
  "kernelspec": {
   "display_name": "Python 3",
   "language": "python",
   "name": "python3"
  },
  "language_info": {
   "codemirror_mode": {
    "name": "ipython",
    "version": 3
   },
   "file_extension": ".py",
   "mimetype": "text/x-python",
   "name": "python",
   "nbconvert_exporter": "python",
   "pygments_lexer": "ipython3",
   "version": "3.8.8"
  }
 },
 "nbformat": 4,
 "nbformat_minor": 5
}
