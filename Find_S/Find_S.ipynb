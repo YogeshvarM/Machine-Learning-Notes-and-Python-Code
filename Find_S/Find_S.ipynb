{
 "cells": [
  {
   "cell_type": "markdown",
   "id": "08f8b557",
   "metadata": {},
   "source": [
    "#Find_S_Algorithim"
   ]
  },
  {
   "cell_type": "code",
   "execution_count": 3,
   "id": "2368d590",
   "metadata": {},
   "outputs": [],
   "source": [
    "#Importing_libraries\n",
    "\n",
    "import pandas as pd\n",
    "import numpy  as np"
   ]
  },
  {
   "cell_type": "code",
   "execution_count": 7,
   "id": "7f3db744",
   "metadata": {
    "scrolled": false
   },
   "outputs": [
    {
     "name": "stdout",
     "output_type": "stream",
     "text": [
      "Splitting_the_Attributes\n",
      "[['Sunny' 'Warm' 'Normal' 'Strong' 'Warm' 'Same']\n",
      " ['Sunny' 'Warm' 'High' 'Strong' 'Warm' 'Same']\n",
      " ['Rainy' 'Cold' 'High' 'Strong' 'Warm' 'Change']\n",
      " ['Sunny' 'Warm' 'High' 'Strong' 'Cool' 'Same']]\n",
      "Splitting_the_Labels\n",
      "['Yes' 'Yes' 'No' 'Yes']\n"
     ]
    }
   ],
   "source": [
    "#Importing _the_csv\n",
    "\n",
    "df=pd.read_csv(r\"C:\\Users\\varyo\\Downloads\\ENJOYSPORT1.csv\")\n",
    "df\n",
    "\n",
    "\n",
    "#Converting_df_into_array\n",
    "print(\"Splitting_the_Attributes\")\n",
    "attributes=np.array(df)[:,:-1]   #Splitting_the_Attributes\n",
    "print(attributes)\n",
    "\n",
    "print(\"Splitting_the_Labels\")\n",
    "label=np.array(df)[:,-1]         #Splitting_the_Labels\n",
    "print(label)\n"
   ]
  },
  {
   "cell_type": "code",
   "execution_count": 8,
   "id": "4208fd52",
   "metadata": {},
   "outputs": [],
   "source": [
    "#Applying_Algorithim\n",
    "\n",
    "def FindS(attributes,label):\n",
    "\n",
    "#Step_1:\n",
    "\n",
    "#Taking_Positive_Instance_For_Initializing_Hypothesis\n",
    "    for i,j in enumerate(label):               #The enumerate() method adds a counter to an iterable and returns it \n",
    "        if j=='Yes':\n",
    "            hypothesis=attributes[i].copy()\n",
    "            break\n",
    "#Step_2:\n",
    "\n",
    "#Comparing_initial_hypothesis_With_other_positive_instances_in_given_Data\n",
    "        \n",
    "\n",
    "    for i,j in enumerate(attributes):\n",
    "        if label[i]=='Yes':\n",
    "            for k in range (len(hypothesis)):\n",
    "                if j[k]!=hypothesis[k]:\n",
    "                     hypothesis[k]='?'\n",
    "                else:\n",
    "                    pass\n",
    "    return(hypothesis)\n"
   ]
  },
  {
   "cell_type": "code",
   "execution_count": 9,
   "id": "b2306dbe",
   "metadata": {},
   "outputs": [
    {
     "data": {
      "text/plain": [
       "array(['Sunny', 'Warm', '?', 'Strong', '?', 'Same'], dtype=object)"
      ]
     },
     "execution_count": 9,
     "metadata": {},
     "output_type": "execute_result"
    }
   ],
   "source": [
    "FindS(attributes,label)"
   ]
  }
 ],
 "metadata": {
  "kernelspec": {
   "display_name": "Python 3",
   "language": "python",
   "name": "python3"
  },
  "language_info": {
   "codemirror_mode": {
    "name": "ipython",
    "version": 3
   },
   "file_extension": ".py",
   "mimetype": "text/x-python",
   "name": "python",
   "nbconvert_exporter": "python",
   "pygments_lexer": "ipython3",
   "version": "3.8.8"
  }
 },
 "nbformat": 4,
 "nbformat_minor": 5
}
